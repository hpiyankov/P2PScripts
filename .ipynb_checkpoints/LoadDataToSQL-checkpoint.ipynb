{
 "cells": [
  {
   "cell_type": "markdown",
   "metadata": {
    "collapsed": true
   },
   "source": [
    "# Overview\n",
    "<p>Periodic loading of Peer to Peer financing data to an SQLite database. Operating for:\n",
    "<br>--Mintos\n",
    "<br>--IUVO\n",
    "</p>"
   ]
  },
  {
   "cell_type": "code",
   "execution_count": 8,
   "metadata": {},
   "outputs": [],
   "source": [
    "import pandas as pd\n",
    "import matplotlib.pyplot as plt\n",
    "import zipfile\n",
    "import os"
   ]
  },
  {
   "cell_type": "code",
   "execution_count": 15,
   "metadata": {},
   "outputs": [
    {
     "name": "stdout",
     "output_type": "stream",
     "text": [
      "/home/hpiyankov/Documents/P2P/2018-01-01\n",
      "2018-01-01\n"
     ]
    }
   ],
   "source": [
    "#Path to local Excel files containing the downloaded data from the P2P sites\n",
    "path = \"/home/hpiyankov/Documents/P2P\"\n",
    "\n",
    "#Get the diretory with the latest downloads, we will use it also as date for the SQLite\n",
    "dirList = [x[0] for x in os.walk(path)]\n",
    "lastDir = max(dirList)\n",
    "maxDate = lastDir[-10:]\n",
    "\n",
    "print(lastDir)\n",
    "print(maxDate)"
   ]
  },
  {
   "cell_type": "markdown",
   "metadata": {},
   "source": [
    "# Mintos"
   ]
  },
  {
   "cell_type": "markdown",
   "metadata": {},
   "source": [
    "## Loading data to dataframes"
   ]
  },
  {
   "cell_type": "code",
   "execution_count": 20,
   "metadata": {},
   "outputs": [
    {
     "name": "stdout",
     "output_type": "stream",
     "text": [
      "1-500000_loan_book.xlsx\n",
      "500001-1000000_loan_book.xlsx\n",
      "1000001-1500000_loan_book.xlsx\n",
      "1500001-2000000_loan_book.xlsx\n",
      "2000001-2500000_loan_book.xlsx\n"
     ]
    }
   ],
   "source": [
    "myZip = zipfile.ZipFile(lastDir+\"/loan_book.zip\",\"r\")\n",
    "contents = myZip.namelist()\n",
    "print(*contents,sep=\"\\n\")"
   ]
  },
  {
   "cell_type": "code",
   "execution_count": null,
   "metadata": {},
   "outputs": [],
   "source": []
  }
 ],
 "metadata": {
  "kernelspec": {
   "display_name": "Python 3",
   "language": "python",
   "name": "python3"
  },
  "language_info": {
   "codemirror_mode": {
    "name": "ipython",
    "version": 3
   },
   "file_extension": ".py",
   "mimetype": "text/x-python",
   "name": "python",
   "nbconvert_exporter": "python",
   "pygments_lexer": "ipython3",
   "version": "3.6.3"
  }
 },
 "nbformat": 4,
 "nbformat_minor": 2
}
