{
 "cells": [
  {
   "cell_type": "markdown",
   "metadata": {
    "collapsed": true
   },
   "source": [
    "# Overview\n",
    "<p>Periodic loading of Peer to Peer financing data to an SQLite database. Operating for:\n",
    "<br>--Mintos\n",
    "<br>--IUVO\n",
    "</p>"
   ]
  },
  {
   "cell_type": "code",
   "execution_count": 128,
   "metadata": {},
   "outputs": [],
   "source": [
    "import pandas as pd\n",
    "import matplotlib.pyplot as plt\n",
    "import sqlite3 as sql\n",
    "import zipfile\n",
    "import glob\n",
    "import os"
   ]
  },
  {
   "cell_type": "code",
   "execution_count": 129,
   "metadata": {},
   "outputs": [
    {
     "name": "stdout",
     "output_type": "stream",
     "text": [
      "/home/hpiyankov/Documents/P2P/2018-01-01\n",
      "2018-01-01\n"
     ]
    }
   ],
   "source": [
    "#Path to local Excel files containing the downloaded data from the P2P sites\n",
    "path = \"/home/hpiyankov/Documents/P2P/\"\n",
    "\n",
    "#Get the diretory with the latest downloads, we will use it also as date for the SQLite\n",
    "dirList = [x[0] for x in os.walk(path)]\n",
    "lastDir = max(dirList)\n",
    "maxDate = lastDir[-10:]\n",
    "\n",
    "print(lastDir)\n",
    "print(maxDate)"
   ]
  },
  {
   "cell_type": "markdown",
   "metadata": {},
   "source": [
    "# Mintos"
   ]
  },
  {
   "cell_type": "markdown",
   "metadata": {},
   "source": [
    "## Loading data to dataframes"
   ]
  },
  {
   "cell_type": "code",
   "execution_count": 130,
   "metadata": {},
   "outputs": [
    {
     "name": "stdout",
     "output_type": "stream",
     "text": [
      "1-500000_loan_book.xlsx\n",
      "500001-1000000_loan_book.xlsx\n",
      "1000001-1500000_loan_book.xlsx\n",
      "1500001-2000000_loan_book.xlsx\n",
      "2000001-2500000_loan_book.xlsx\n"
     ]
    }
   ],
   "source": [
    "myZip = zipfile.ZipFile(lastDir+\"/loan_book.zip\",\"r\")\n",
    "contents = myZip.namelist()\n",
    "print(*contents,sep=\"\\n\")"
   ]
  },
  {
   "cell_type": "code",
   "execution_count": 131,
   "metadata": {},
   "outputs": [
    {
     "data": {
      "text/plain": [
       "(2039464, 17)"
      ]
     },
     "execution_count": 131,
     "metadata": {},
     "output_type": "execute_result"
    }
   ],
   "source": [
    "mintosDF = pd.DataFrame()\n",
    "\n",
    "for m in contents:\n",
    "    mintosDF = mintosDF.append(pd.read_excel(myZip.open(m,\"r\")))\n",
    "\n",
    "mintosDF.shape"
   ]
  },
  {
   "cell_type": "code",
   "execution_count": 132,
   "metadata": {},
   "outputs": [],
   "source": [
    "#Let's make sure all is as expected\n",
    "assert mintosDF.shape[0] > 100000\n",
    "assert mintosDF.shape[1] == 17"
   ]
  },
  {
   "cell_type": "code",
   "execution_count": 133,
   "metadata": {
    "scrolled": true
   },
   "outputs": [
    {
     "data": {
      "text/html": [
       "<div>\n",
       "<style>\n",
       "    .dataframe thead tr:only-child th {\n",
       "        text-align: right;\n",
       "    }\n",
       "\n",
       "    .dataframe thead th {\n",
       "        text-align: left;\n",
       "    }\n",
       "\n",
       "    .dataframe tbody tr th {\n",
       "        vertical-align: top;\n",
       "    }\n",
       "</style>\n",
       "<table border=\"1\" class=\"dataframe\">\n",
       "  <thead>\n",
       "    <tr style=\"text-align: right;\">\n",
       "      <th></th>\n",
       "      <th>Id</th>\n",
       "      <th>IssueDate</th>\n",
       "      <th>ListingDate</th>\n",
       "      <th>Country</th>\n",
       "      <th>LoanOriginator</th>\n",
       "      <th>LoanType</th>\n",
       "      <th>LoanRatePercent</th>\n",
       "      <th>Term</th>\n",
       "      <th>Collateral</th>\n",
       "      <th>InitialLTV</th>\n",
       "      <th>LTV</th>\n",
       "      <th>LoanStatus</th>\n",
       "      <th>Buybackreason</th>\n",
       "      <th>InitialLoanAmount</th>\n",
       "      <th>RemainingLoanAmount</th>\n",
       "      <th>Currency</th>\n",
       "      <th>Buyback</th>\n",
       "      <th>DATE</th>\n",
       "    </tr>\n",
       "  </thead>\n",
       "  <tbody>\n",
       "    <tr>\n",
       "      <th>0</th>\n",
       "      <td>2014-1012</td>\n",
       "      <td>2014-10-17 00:00:00</td>\n",
       "      <td>2014-10-17 00:00:00</td>\n",
       "      <td>Latvia</td>\n",
       "      <td>Hipocredit</td>\n",
       "      <td>Mortgage Loan</td>\n",
       "      <td>14.2</td>\n",
       "      <td>60</td>\n",
       "      <td>Yes</td>\n",
       "      <td>13</td>\n",
       "      <td>6</td>\n",
       "      <td>Current</td>\n",
       "      <td>-</td>\n",
       "      <td>5000.0</td>\n",
       "      <td>2253.21</td>\n",
       "      <td>EUR</td>\n",
       "      <td>No</td>\n",
       "      <td>2018-01-01</td>\n",
       "    </tr>\n",
       "    <tr>\n",
       "      <th>1</th>\n",
       "      <td>17938-02</td>\n",
       "      <td>2016-02-02 00:00:00</td>\n",
       "      <td>2016-02-04 18:39:18</td>\n",
       "      <td>Latvia</td>\n",
       "      <td>Hipocredit</td>\n",
       "      <td>Mortgage Loan</td>\n",
       "      <td>15.4</td>\n",
       "      <td>60</td>\n",
       "      <td>Yes</td>\n",
       "      <td>45</td>\n",
       "      <td>41</td>\n",
       "      <td>Current</td>\n",
       "      <td>-</td>\n",
       "      <td>40525.0</td>\n",
       "      <td>36473.42</td>\n",
       "      <td>EUR</td>\n",
       "      <td>No</td>\n",
       "      <td>2018-01-01</td>\n",
       "    </tr>\n",
       "    <tr>\n",
       "      <th>2</th>\n",
       "      <td>2014-1003</td>\n",
       "      <td>2014-10-17 00:00:00</td>\n",
       "      <td>2014-10-17 00:00:00</td>\n",
       "      <td>Latvia</td>\n",
       "      <td>Hipocredit</td>\n",
       "      <td>Mortgage Loan</td>\n",
       "      <td>12.5</td>\n",
       "      <td>120</td>\n",
       "      <td>Yes</td>\n",
       "      <td>45</td>\n",
       "      <td>36</td>\n",
       "      <td>Late 1-15</td>\n",
       "      <td>-</td>\n",
       "      <td>30000.0</td>\n",
       "      <td>24354.30</td>\n",
       "      <td>EUR</td>\n",
       "      <td>No</td>\n",
       "      <td>2018-01-01</td>\n",
       "    </tr>\n",
       "    <tr>\n",
       "      <th>3</th>\n",
       "      <td>2014-10019</td>\n",
       "      <td>2014-10-10 00:00:00</td>\n",
       "      <td>2014-10-10 00:00:00</td>\n",
       "      <td>Latvia</td>\n",
       "      <td>Hipocredit</td>\n",
       "      <td>Mortgage Loan</td>\n",
       "      <td>13.6</td>\n",
       "      <td>120</td>\n",
       "      <td>Yes</td>\n",
       "      <td>60</td>\n",
       "      <td>49</td>\n",
       "      <td>Late 1-15</td>\n",
       "      <td>-</td>\n",
       "      <td>18000.0</td>\n",
       "      <td>14592.10</td>\n",
       "      <td>EUR</td>\n",
       "      <td>No</td>\n",
       "      <td>2018-01-01</td>\n",
       "    </tr>\n",
       "    <tr>\n",
       "      <th>4</th>\n",
       "      <td>2014-1002</td>\n",
       "      <td>2014-10-10 00:00:00</td>\n",
       "      <td>2014-10-10 00:00:00</td>\n",
       "      <td>Latvia</td>\n",
       "      <td>Hipocredit</td>\n",
       "      <td>Mortgage Loan</td>\n",
       "      <td>13.9</td>\n",
       "      <td>84</td>\n",
       "      <td>Yes</td>\n",
       "      <td>28</td>\n",
       "      <td>0</td>\n",
       "      <td>Finished prematurely</td>\n",
       "      <td>Not Specified</td>\n",
       "      <td>7700.0</td>\n",
       "      <td>0.00</td>\n",
       "      <td>EUR</td>\n",
       "      <td>No</td>\n",
       "      <td>2018-01-01</td>\n",
       "    </tr>\n",
       "  </tbody>\n",
       "</table>\n",
       "</div>"
      ],
      "text/plain": [
       "           Id            IssueDate          ListingDate Country  \\\n",
       "0   2014-1012  2014-10-17 00:00:00  2014-10-17 00:00:00  Latvia   \n",
       "1    17938-02  2016-02-02 00:00:00  2016-02-04 18:39:18  Latvia   \n",
       "2   2014-1003  2014-10-17 00:00:00  2014-10-17 00:00:00  Latvia   \n",
       "3  2014-10019  2014-10-10 00:00:00  2014-10-10 00:00:00  Latvia   \n",
       "4   2014-1002  2014-10-10 00:00:00  2014-10-10 00:00:00  Latvia   \n",
       "\n",
       "  LoanOriginator       LoanType  LoanRatePercent  Term Collateral  InitialLTV  \\\n",
       "0     Hipocredit  Mortgage Loan             14.2    60        Yes          13   \n",
       "1     Hipocredit  Mortgage Loan             15.4    60        Yes          45   \n",
       "2     Hipocredit  Mortgage Loan             12.5   120        Yes          45   \n",
       "3     Hipocredit  Mortgage Loan             13.6   120        Yes          60   \n",
       "4     Hipocredit  Mortgage Loan             13.9    84        Yes          28   \n",
       "\n",
       "   LTV            LoanStatus  Buybackreason  InitialLoanAmount  \\\n",
       "0    6               Current              -             5000.0   \n",
       "1   41               Current              -            40525.0   \n",
       "2   36             Late 1-15              -            30000.0   \n",
       "3   49             Late 1-15              -            18000.0   \n",
       "4    0  Finished prematurely  Not Specified             7700.0   \n",
       "\n",
       "   RemainingLoanAmount Currency Buyback        DATE  \n",
       "0              2253.21      EUR      No  2018-01-01  \n",
       "1             36473.42      EUR      No  2018-01-01  \n",
       "2             24354.30      EUR      No  2018-01-01  \n",
       "3             14592.10      EUR      No  2018-01-01  \n",
       "4                 0.00      EUR      No  2018-01-01  "
      ]
     },
     "execution_count": 133,
     "metadata": {},
     "output_type": "execute_result"
    }
   ],
   "source": [
    "#Drop spaces form column names for easier SQL storage\n",
    "mintosDF.columns = [x.replace(\" \",\"\") for x in mintosDF.columns]\n",
    "mintosDF[\"DATE\"] = maxDate\n",
    "mintosDF.head(5)"
   ]
  },
  {
   "cell_type": "markdown",
   "metadata": {},
   "source": [
    "## Loading dataframe to SQLite DB"
   ]
  },
  {
   "cell_type": "code",
   "execution_count": 134,
   "metadata": {},
   "outputs": [],
   "source": [
    "con = sql.connect(path+\"Mintos_bup.db\")\n",
    "cur = con.cursor()"
   ]
  },
  {
   "cell_type": "code",
   "execution_count": 135,
   "metadata": {},
   "outputs": [
    {
     "name": "stdout",
     "output_type": "stream",
     "text": [
      "[('2018-01-01', 2039464), ('2017-12-01', 1864787), ('2017-11-05', 1720514)]\n"
     ]
    }
   ],
   "source": [
    "#Check what is currently there\n",
    "mintosState = \"SELECT DATE, count(*) FROM loan_book GROUP BY DATE ORDER BY 1 DESC;\"\n",
    "cur.execute(mintosState)\n",
    "res = cur.fetchall()\n",
    "print(res)"
   ]
  },
  {
   "cell_type": "code",
   "execution_count": 136,
   "metadata": {
    "scrolled": false
   },
   "outputs": [
    {
     "data": {
      "image/png": "[encoded data removed]",
      "text/plain": [
       "<matplotlib.figure.Figure at 0x7f84827e6f60>"
      ]
     },
     "metadata": {},
     "output_type": "display_data"
    }
   ],
   "source": [
    "labels, values = zip(*res)\n",
    "plt.bar(labels,values,width=0.8,align=\"center\",alpha = 0.5)\n",
    "    \n",
    "plt.show()"
   ]
  },
  {
   "cell_type": "code",
   "execution_count": 137,
   "metadata": {},
   "outputs": [
    {
     "name": "stdout",
     "output_type": "stream",
     "text": [
      "2018-01-01\n"
     ]
    }
   ],
   "source": [
    "print(maxDate)"
   ]
  },
  {
   "cell_type": "code",
   "execution_count": 138,
   "metadata": {},
   "outputs": [
    {
     "data": {
      "text/plain": [
       "2039464"
      ]
     },
     "execution_count": 138,
     "metadata": {},
     "output_type": "execute_result"
    }
   ],
   "source": [
    "#Purge the date if it already exists\n",
    "mintosPurge = \"DELETE FROM loan_book WHERE DATE=?\"\n",
    "cur.execute(mintosPurge,(maxDate,))\n",
    "cur.rowcount"
   ]
  },
  {
   "cell_type": "code",
   "execution_count": 139,
   "metadata": {},
   "outputs": [],
   "source": [
    "#Add the new dataframe, there is some issues with append so make a seperate table\n",
    "mintosDF.to_sql(\"loan_book_tmp\",con,if_exists='replace')"
   ]
  },
  {
   "cell_type": "code",
   "execution_count": 140,
   "metadata": {},
   "outputs": [
    {
     "data": {
      "text/plain": [
       "<sqlite3.Cursor at 0x7f849909a2d0>"
      ]
     },
     "execution_count": 140,
     "metadata": {},
     "output_type": "execute_result"
    }
   ],
   "source": [
    "#Insert data from temporaty table\n",
    "mintosInsert = \"\"\"\n",
    "INSERT INTO LOAN_BOOK (`Id`,`IssueDate`,`ListingDate`,`Country`,`LoanOriginator`,`LoanType`,`LoanRatePercent`,`Term`,`Collateral`,`InitialLTV`,`LTV`,`LoanStatus`,`Buybackreason`,`InitialLoanAmount`,`RemainingLoanAmount`,`Currency`,`Buyback`,`DATE`)\n",
    "SELECT `Id`,`IssueDate`,`ListingDate`,`Country`,`LoanOriginator`,`LoanType`,`LoanRatePercent`,`Term`,`Collateral`,`InitialLTV`,`LTV`,`LoanStatus`,`Buybackreason`,`InitialLoanAmount`,`RemainingLoanAmount`,`Currency`,`Buyback`,`DATE`\n",
    "FROM loan_book_tmp;\n",
    "\"\"\"\n",
    "cur.execute(mintosInsert)\n",
    "cur.execute(\"DROP TABLE IF EXISTS loan_book_temp\")\n",
    "\n",
    "#Fix the sequence table\n",
    "cur.execute(\"DROP TABLE IF EXISTS date_sequence\")\n",
    "\n",
    "mintosFixSequence1 = \"\"\"\n",
    "CREATE TABLE tmp_date_sequence as \n",
    "\tselect \n",
    "\t\tdate, \n",
    "\t\t(select count(*) from(select distinct date from LOAN_BOOK) as LB2 where LB2.date > LB1.date)+1 as seq \n",
    "\tfrom (select distinct date from LOAN_BOOK) as LB1;\n",
    "\"\"\"\n",
    "mintosFixSequence2 = \"\"\"\n",
    "CREATE TABLE DATE_SEQUENCE as \n",
    "\tselect m.date as date1, e.date as date2, e.seq as seq2\n",
    "\tfrom tmp_date_sequence e inner join tmp_date_sequence m on e.seq = m.seq-1;\n",
    "\"\"\"\n",
    "\n",
    "cur.execute(mintosFixSequence1)\n",
    "cur.execute(mintosFixSequence2)\n",
    "cur.execute(\"DROP TABLE IF EXISTS tmp_date_sequence;\")"
   ]
  },
  {
   "cell_type": "code",
   "execution_count": 141,
   "metadata": {},
   "outputs": [],
   "source": [
    "con.commit()"
   ]
  },
  {
   "cell_type": "code",
   "execution_count": 142,
   "metadata": {},
   "outputs": [
    {
     "data": {
      "image/png": "[encoded data removed]",
      "text/plain": [
       "<matplotlib.figure.Figure at 0x7f84827e2d68>"
      ]
     },
     "metadata": {},
     "output_type": "display_data"
    }
   ],
   "source": [
    "cur.execute(mintosState)\n",
    "res = cur.fetchall()\n",
    "labels, values = zip(*res)\n",
    "plt.bar(labels,values,width=0.8,align=\"center\",alpha = 0.5)\n",
    "plt.show()"
   ]
  },
  {
   "cell_type": "code",
   "execution_count": 143,
   "metadata": {},
   "outputs": [],
   "source": [
    "con.close()"
   ]
  },
  {
   "cell_type": "markdown",
   "metadata": {},
   "source": [
    "# IUVO"
   ]
  },
  {
   "cell_type": "markdown",
   "metadata": {},
   "source": [
    "## Loading data to dataframes"
   ]
  },
  {
   "cell_type": "markdown",
   "metadata": {},
   "source": [
    "### Primary market"
   ]
  },
  {
   "cell_type": "code",
   "execution_count": 144,
   "metadata": {},
   "outputs": [],
   "source": [
    "#Get the file, make sure it's only one\n",
    "filepath=lastDir+\"/Primary*.xlsx\"\n",
    "files = glob.glob(filepath)\n",
    "\n",
    "assert len(files) == 1"
   ]
  },
  {
   "cell_type": "code",
   "execution_count": 145,
   "metadata": {},
   "outputs": [
    {
     "data": {
      "text/plain": [
       "(18254, 18)"
      ]
     },
     "execution_count": 145,
     "metadata": {},
     "output_type": "execute_result"
    }
   ],
   "source": [
    "iuvoPr = pd.read_excel(files[0],sheet_name=\"sheet1\",skiprows=3)\n",
    "iuvoPr.shape"
   ]
  },
  {
   "cell_type": "code",
   "execution_count": 146,
   "metadata": {},
   "outputs": [],
   "source": [
    "#Let's make sure all is as expected\n",
    "assert iuvoPr.shape[0] > 10000\n",
    "assert iuvoPr.shape[1] == 18"
   ]
  },
  {
   "cell_type": "code",
   "execution_count": 147,
   "metadata": {
    "scrolled": false
   },
   "outputs": [
    {
     "data": {
      "text/html": [
       "<div>\n",
       "<style>\n",
       "    .dataframe thead tr:only-child th {\n",
       "        text-align: right;\n",
       "    }\n",
       "\n",
       "    .dataframe thead th {\n",
       "        text-align: left;\n",
       "    }\n",
       "\n",
       "    .dataframe tbody tr th {\n",
       "        vertical-align: top;\n",
       "    }\n",
       "</style>\n",
       "<table border=\"1\" class=\"dataframe\">\n",
       "  <thead>\n",
       "    <tr style=\"text-align: right;\">\n",
       "      <th></th>\n",
       "      <th>Country</th>\n",
       "      <th>ID</th>\n",
       "      <th>IssueDate</th>\n",
       "      <th>LoanType</th>\n",
       "      <th>AmortizationMethod</th>\n",
       "      <th>LoanOriginator</th>\n",
       "      <th>ScoreClass</th>\n",
       "      <th>GuaranteedofPrincipal(%)</th>\n",
       "      <th>Currency</th>\n",
       "      <th>LoanAmount</th>\n",
       "      <th>RemainingPrincipal</th>\n",
       "      <th>InterestRate(%)</th>\n",
       "      <th>Term</th>\n",
       "      <th>PaymentsReceived</th>\n",
       "      <th>InstalmentType</th>\n",
       "      <th>Status</th>\n",
       "      <th>AvailableforInvestment</th>\n",
       "      <th>MyInvestment</th>\n",
       "      <th>DATE</th>\n",
       "    </tr>\n",
       "  </thead>\n",
       "  <tbody>\n",
       "    <tr>\n",
       "      <th>0</th>\n",
       "      <td>Bulgaria</td>\n",
       "      <td>185966</td>\n",
       "      <td>2017-07-17</td>\n",
       "      <td>Personal Loan</td>\n",
       "      <td>Full</td>\n",
       "      <td>EasyCredit</td>\n",
       "      <td>C</td>\n",
       "      <td>100</td>\n",
       "      <td>EUR</td>\n",
       "      <td>383.47</td>\n",
       "      <td>63.42</td>\n",
       "      <td>6.9671</td>\n",
       "      <td>2</td>\n",
       "      <td>11</td>\n",
       "      <td>14 days</td>\n",
       "      <td>current</td>\n",
       "      <td>11.67</td>\n",
       "      <td>-</td>\n",
       "      <td>2018-01-01</td>\n",
       "    </tr>\n",
       "    <tr>\n",
       "      <th>1</th>\n",
       "      <td>Bulgaria</td>\n",
       "      <td>219911</td>\n",
       "      <td>2017-11-09</td>\n",
       "      <td>Personal Loan</td>\n",
       "      <td>Full</td>\n",
       "      <td>EasyCredit</td>\n",
       "      <td>C</td>\n",
       "      <td>100</td>\n",
       "      <td>EUR</td>\n",
       "      <td>102.26</td>\n",
       "      <td>77.94</td>\n",
       "      <td>7.0605</td>\n",
       "      <td>3</td>\n",
       "      <td>1</td>\n",
       "      <td>30 days</td>\n",
       "      <td>current</td>\n",
       "      <td>12.44</td>\n",
       "      <td>-</td>\n",
       "      <td>2018-01-01</td>\n",
       "    </tr>\n",
       "    <tr>\n",
       "      <th>2</th>\n",
       "      <td>Bulgaria</td>\n",
       "      <td>211085</td>\n",
       "      <td>2017-10-20</td>\n",
       "      <td>Personal Loan</td>\n",
       "      <td>Full</td>\n",
       "      <td>EasyCredit</td>\n",
       "      <td>C</td>\n",
       "      <td>100</td>\n",
       "      <td>EUR</td>\n",
       "      <td>204.52</td>\n",
       "      <td>157.71</td>\n",
       "      <td>7.0591</td>\n",
       "      <td>6</td>\n",
       "      <td>2</td>\n",
       "      <td>30 days</td>\n",
       "      <td>current</td>\n",
       "      <td>13.48</td>\n",
       "      <td>-</td>\n",
       "      <td>2018-01-01</td>\n",
       "    </tr>\n",
       "    <tr>\n",
       "      <th>3</th>\n",
       "      <td>Bulgaria</td>\n",
       "      <td>209459</td>\n",
       "      <td>2017-10-18</td>\n",
       "      <td>Personal Loan</td>\n",
       "      <td>Full</td>\n",
       "      <td>EasyCredit</td>\n",
       "      <td>E</td>\n",
       "      <td>100</td>\n",
       "      <td>BGN</td>\n",
       "      <td>500.00</td>\n",
       "      <td>355.31</td>\n",
       "      <td>10.0041</td>\n",
       "      <td>9</td>\n",
       "      <td>4</td>\n",
       "      <td>14 days</td>\n",
       "      <td>3-15 days delay</td>\n",
       "      <td>14.63</td>\n",
       "      <td>-</td>\n",
       "      <td>2018-01-01</td>\n",
       "    </tr>\n",
       "    <tr>\n",
       "      <th>4</th>\n",
       "      <td>Romania</td>\n",
       "      <td>217318</td>\n",
       "      <td>2017-11-09</td>\n",
       "      <td>Personal Loan</td>\n",
       "      <td>Full</td>\n",
       "      <td>iCredit</td>\n",
       "      <td>B</td>\n",
       "      <td>100</td>\n",
       "      <td>EUR</td>\n",
       "      <td>129.25</td>\n",
       "      <td>74.79</td>\n",
       "      <td>7.2637</td>\n",
       "      <td>8</td>\n",
       "      <td>6</td>\n",
       "      <td>7 days</td>\n",
       "      <td>3-15 days delay</td>\n",
       "      <td>15.00</td>\n",
       "      <td>-</td>\n",
       "      <td>2018-01-01</td>\n",
       "    </tr>\n",
       "  </tbody>\n",
       "</table>\n",
       "</div>"
      ],
      "text/plain": [
       "    Country      ID   IssueDate       LoanType AmortizationMethod  \\\n",
       "0  Bulgaria  185966  2017-07-17  Personal Loan               Full   \n",
       "1  Bulgaria  219911  2017-11-09  Personal Loan               Full   \n",
       "2  Bulgaria  211085  2017-10-20  Personal Loan               Full   \n",
       "3  Bulgaria  209459  2017-10-18  Personal Loan               Full   \n",
       "4   Romania  217318  2017-11-09  Personal Loan               Full   \n",
       "\n",
       "  LoanOriginator ScoreClass  GuaranteedofPrincipal(%) Currency  LoanAmount  \\\n",
       "0     EasyCredit          C                       100      EUR      383.47   \n",
       "1     EasyCredit          C                       100      EUR      102.26   \n",
       "2     EasyCredit          C                       100      EUR      204.52   \n",
       "3     EasyCredit          E                       100      BGN      500.00   \n",
       "4        iCredit          B                       100      EUR      129.25   \n",
       "\n",
       "   RemainingPrincipal  InterestRate(%)  Term  PaymentsReceived InstalmentType  \\\n",
       "0               63.42           6.9671     2                11        14 days   \n",
       "1               77.94           7.0605     3                 1        30 days   \n",
       "2              157.71           7.0591     6                 2        30 days   \n",
       "3              355.31          10.0041     9                 4        14 days   \n",
       "4               74.79           7.2637     8                 6         7 days   \n",
       "\n",
       "            Status  AvailableforInvestment MyInvestment        DATE  \n",
       "0          current                   11.67            -  2018-01-01  \n",
       "1          current                   12.44            -  2018-01-01  \n",
       "2          current                   13.48            -  2018-01-01  \n",
       "3  3-15 days delay                   14.63            -  2018-01-01  \n",
       "4  3-15 days delay                   15.00            -  2018-01-01  "
      ]
     },
     "execution_count": 147,
     "metadata": {},
     "output_type": "execute_result"
    }
   ],
   "source": [
    "iuvoPr.columns = [x.replace(\" \",\"\") for x in iuvoPr.columns]\n",
    "iuvoPr[\"DATE\"] = maxDate\n",
    "iuvoPr.head(5)"
   ]
  },
  {
   "cell_type": "markdown",
   "metadata": {},
   "source": [
    "### Secondary market"
   ]
  },
  {
   "cell_type": "code",
   "execution_count": 148,
   "metadata": {},
   "outputs": [],
   "source": [
    "#Get the file, make sure it's only one\n",
    "filepath=lastDir+\"/Secondary*.xlsx\"\n",
    "files = glob.glob(filepath)\n",
    "\n",
    "assert len(files) == 1"
   ]
  },
  {
   "cell_type": "code",
   "execution_count": 149,
   "metadata": {},
   "outputs": [
    {
     "data": {
      "text/plain": [
       "(622, 18)"
      ]
     },
     "execution_count": 149,
     "metadata": {},
     "output_type": "execute_result"
    }
   ],
   "source": [
    "iuvoSec = pd.read_excel(files[0],sheet_name=\"sheet1\",skiprows=3)\n",
    "iuvoSec.shape"
   ]
  },
  {
   "cell_type": "code",
   "execution_count": 150,
   "metadata": {},
   "outputs": [],
   "source": [
    "#Let's make sure all is as expected\n",
    "assert iuvoSec.shape[0] > 100\n",
    "assert iuvoSec.shape[1] == 18"
   ]
  },
  {
   "cell_type": "code",
   "execution_count": 151,
   "metadata": {
    "scrolled": false
   },
   "outputs": [
    {
     "data": {
      "text/html": [
       "<div>\n",
       "<style>\n",
       "    .dataframe thead tr:only-child th {\n",
       "        text-align: right;\n",
       "    }\n",
       "\n",
       "    .dataframe thead th {\n",
       "        text-align: left;\n",
       "    }\n",
       "\n",
       "    .dataframe tbody tr th {\n",
       "        vertical-align: top;\n",
       "    }\n",
       "</style>\n",
       "<table border=\"1\" class=\"dataframe\">\n",
       "  <thead>\n",
       "    <tr style=\"text-align: right;\">\n",
       "      <th></th>\n",
       "      <th>Country</th>\n",
       "      <th>ID</th>\n",
       "      <th>IssueDate</th>\n",
       "      <th>LoanType</th>\n",
       "      <th>AmortizationMethod</th>\n",
       "      <th>LoanOriginator</th>\n",
       "      <th>ScoreClass</th>\n",
       "      <th>GuaranteedofPrincipal(%)</th>\n",
       "      <th>InterestRate(%)</th>\n",
       "      <th>Term</th>\n",
       "      <th>PaymentsReceived</th>\n",
       "      <th>InstalmentType</th>\n",
       "      <th>Status</th>\n",
       "      <th>Currency</th>\n",
       "      <th>AvailableforInvestment</th>\n",
       "      <th>Discount/Premium(%)</th>\n",
       "      <th>Price</th>\n",
       "      <th>MyInvestment</th>\n",
       "      <th>DATE</th>\n",
       "    </tr>\n",
       "  </thead>\n",
       "  <tbody>\n",
       "    <tr>\n",
       "      <th>0</th>\n",
       "      <td>Bulgaria</td>\n",
       "      <td>226492</td>\n",
       "      <td>2017-12-13</td>\n",
       "      <td>Personal Loan</td>\n",
       "      <td>Full</td>\n",
       "      <td>VivaCredit</td>\n",
       "      <td>HR</td>\n",
       "      <td>100</td>\n",
       "      <td>15.23</td>\n",
       "      <td>5</td>\n",
       "      <td>0</td>\n",
       "      <td>30 days</td>\n",
       "      <td>current</td>\n",
       "      <td>EUR</td>\n",
       "      <td>15.00</td>\n",
       "      <td>15.23</td>\n",
       "      <td>17.28</td>\n",
       "      <td>-</td>\n",
       "      <td>2018-01-01</td>\n",
       "    </tr>\n",
       "    <tr>\n",
       "      <th>1</th>\n",
       "      <td>Bulgaria</td>\n",
       "      <td>226444</td>\n",
       "      <td>2017-12-13</td>\n",
       "      <td>Personal Loan</td>\n",
       "      <td>Full</td>\n",
       "      <td>VivaCredit</td>\n",
       "      <td>HR</td>\n",
       "      <td>100</td>\n",
       "      <td>15.23</td>\n",
       "      <td>5</td>\n",
       "      <td>0</td>\n",
       "      <td>30 days</td>\n",
       "      <td>current</td>\n",
       "      <td>EUR</td>\n",
       "      <td>11.06</td>\n",
       "      <td>15.23</td>\n",
       "      <td>12.74</td>\n",
       "      <td>-</td>\n",
       "      <td>2018-01-01</td>\n",
       "    </tr>\n",
       "    <tr>\n",
       "      <th>2</th>\n",
       "      <td>Bulgaria</td>\n",
       "      <td>226483</td>\n",
       "      <td>2017-12-12</td>\n",
       "      <td>Personal Loan</td>\n",
       "      <td>Full</td>\n",
       "      <td>VivaCredit</td>\n",
       "      <td>HR</td>\n",
       "      <td>100</td>\n",
       "      <td>15.22</td>\n",
       "      <td>3</td>\n",
       "      <td>0</td>\n",
       "      <td>30 days</td>\n",
       "      <td>current</td>\n",
       "      <td>EUR</td>\n",
       "      <td>24.00</td>\n",
       "      <td>15.22</td>\n",
       "      <td>27.65</td>\n",
       "      <td>-</td>\n",
       "      <td>2018-01-01</td>\n",
       "    </tr>\n",
       "    <tr>\n",
       "      <th>3</th>\n",
       "      <td>Bulgaria</td>\n",
       "      <td>226339</td>\n",
       "      <td>2017-12-11</td>\n",
       "      <td>Personal Loan</td>\n",
       "      <td>Full</td>\n",
       "      <td>VivaCredit</td>\n",
       "      <td>E</td>\n",
       "      <td>100</td>\n",
       "      <td>12.34</td>\n",
       "      <td>3</td>\n",
       "      <td>0</td>\n",
       "      <td>30 days</td>\n",
       "      <td>current</td>\n",
       "      <td>EUR</td>\n",
       "      <td>12.80</td>\n",
       "      <td>2.99</td>\n",
       "      <td>13.18</td>\n",
       "      <td>-</td>\n",
       "      <td>2018-01-01</td>\n",
       "    </tr>\n",
       "    <tr>\n",
       "      <th>4</th>\n",
       "      <td>Bulgaria</td>\n",
       "      <td>226347</td>\n",
       "      <td>2017-12-11</td>\n",
       "      <td>Personal Loan</td>\n",
       "      <td>Full</td>\n",
       "      <td>VivaCredit</td>\n",
       "      <td>HR</td>\n",
       "      <td>100</td>\n",
       "      <td>15.22</td>\n",
       "      <td>3</td>\n",
       "      <td>0</td>\n",
       "      <td>30 days</td>\n",
       "      <td>current</td>\n",
       "      <td>EUR</td>\n",
       "      <td>24.00</td>\n",
       "      <td>15.22</td>\n",
       "      <td>27.65</td>\n",
       "      <td>-</td>\n",
       "      <td>2018-01-01</td>\n",
       "    </tr>\n",
       "  </tbody>\n",
       "</table>\n",
       "</div>"
      ],
      "text/plain": [
       "    Country      ID   IssueDate       LoanType AmortizationMethod  \\\n",
       "0  Bulgaria  226492  2017-12-13  Personal Loan               Full   \n",
       "1  Bulgaria  226444  2017-12-13  Personal Loan               Full   \n",
       "2  Bulgaria  226483  2017-12-12  Personal Loan               Full   \n",
       "3  Bulgaria  226339  2017-12-11  Personal Loan               Full   \n",
       "4  Bulgaria  226347  2017-12-11  Personal Loan               Full   \n",
       "\n",
       "  LoanOriginator ScoreClass  GuaranteedofPrincipal(%)  InterestRate(%)  Term  \\\n",
       "0     VivaCredit         HR                       100            15.23     5   \n",
       "1     VivaCredit         HR                       100            15.23     5   \n",
       "2     VivaCredit         HR                       100            15.22     3   \n",
       "3     VivaCredit          E                       100            12.34     3   \n",
       "4     VivaCredit         HR                       100            15.22     3   \n",
       "\n",
       "   PaymentsReceived InstalmentType   Status Currency  AvailableforInvestment  \\\n",
       "0                 0        30 days  current      EUR                   15.00   \n",
       "1                 0        30 days  current      EUR                   11.06   \n",
       "2                 0        30 days  current      EUR                   24.00   \n",
       "3                 0        30 days  current      EUR                   12.80   \n",
       "4                 0        30 days  current      EUR                   24.00   \n",
       "\n",
       "   Discount/Premium(%)  Price MyInvestment        DATE  \n",
       "0                15.23  17.28            -  2018-01-01  \n",
       "1                15.23  12.74            -  2018-01-01  \n",
       "2                15.22  27.65            -  2018-01-01  \n",
       "3                 2.99  13.18            -  2018-01-01  \n",
       "4                15.22  27.65            -  2018-01-01  "
      ]
     },
     "execution_count": 151,
     "metadata": {},
     "output_type": "execute_result"
    }
   ],
   "source": [
    "iuvoSec.columns = [x.replace(\" \",\"\") for x in iuvoSec.columns]\n",
    "iuvoSec[\"DATE\"] = maxDate\n",
    "iuvoSec.head(5)"
   ]
  },
  {
   "cell_type": "markdown",
   "metadata": {},
   "source": [
    "## Loading dataframe to SQLite DB"
   ]
  },
  {
   "cell_type": "code",
   "execution_count": 152,
   "metadata": {},
   "outputs": [],
   "source": [
    "con = sql.connect(path+\"IUVO_bup.db\")\n",
    "cur = con.cursor()"
   ]
  },
  {
   "cell_type": "code",
   "execution_count": 153,
   "metadata": {},
   "outputs": [
    {
     "name": "stdout",
     "output_type": "stream",
     "text": [
      "[('2018-01-01', 18254, 622), ('2017-12-01', 22589, 621), ('2017-11-05', 15885, 693)]\n"
     ]
    }
   ],
   "source": [
    "#Check what is currently there\n",
    "iuvoState = \"\"\"\n",
    "SELECT a.DATE, a.PM, b.SM\n",
    "    FROM \n",
    "        (SELECT DATE, count(*) as PM FROM IUVO_PM GROUP BY DATE) a\n",
    "    LEFT JOIN \n",
    "        (SELECT DATE, count(*) as SM FROM IUVO_SM GROUP BY DATE) b ON a.DATE = b.DATE\n",
    "ORDER by 1 desc;\n",
    "\"\"\"\n",
    "cur.execute(iuvoState)\n",
    "res = cur.fetchall()\n",
    "print(res)"
   ]
  },
  {
   "cell_type": "code",
   "execution_count": 154,
   "metadata": {
    "scrolled": false
   },
   "outputs": [
    {
     "data": {
      "image/png": "[encoded data removed]",
      "text/plain": [
       "<matplotlib.figure.Figure at 0x7f847d579c50>"
      ]
     },
     "metadata": {},
     "output_type": "display_data"
    }
   ],
   "source": [
    "labels, PM, SM = zip(*res)\n",
    "plt.bar(labels,PM,width=0.8,align=\"center\",alpha = 0.5)\n",
    "plt.bar(labels,SM,width=0.8,align=\"center\",alpha = 0.5, bottom=PM)\n",
    "\n",
    "plt.show()"
   ]
  },
  {
   "cell_type": "code",
   "execution_count": 155,
   "metadata": {},
   "outputs": [
    {
     "name": "stdout",
     "output_type": "stream",
     "text": [
      "2018-01-01\n"
     ]
    }
   ],
   "source": [
    "print(maxDate)"
   ]
  },
  {
   "cell_type": "markdown",
   "metadata": {},
   "source": [
    "### Primary Market"
   ]
  },
  {
   "cell_type": "code",
   "execution_count": 156,
   "metadata": {
    "scrolled": false
   },
   "outputs": [
    {
     "data": {
      "text/plain": [
       "18254"
      ]
     },
     "execution_count": 156,
     "metadata": {},
     "output_type": "execute_result"
    }
   ],
   "source": [
    "#Purge the date if it already exists\n",
    "PMPurge = \"DELETE FROM IUVO_PM WHERE DATE=?\"\n",
    "cur.execute(PMPurge,(maxDate,))\n",
    "cur.rowcount"
   ]
  },
  {
   "cell_type": "code",
   "execution_count": 157,
   "metadata": {},
   "outputs": [],
   "source": [
    "#Add the new dataframe, there is some issues with append so make a seperate table\n",
    "iuvoPr.to_sql(\"PM_tmp\",con,if_exists='replace')"
   ]
  },
  {
   "cell_type": "code",
   "execution_count": 158,
   "metadata": {},
   "outputs": [
    {
     "data": {
      "text/plain": [
       "<sqlite3.Cursor at 0x7f849909a500>"
      ]
     },
     "execution_count": 158,
     "metadata": {},
     "output_type": "execute_result"
    }
   ],
   "source": [
    "#Insert data from temporaty table\n",
    "PMInsert = \"\"\"\n",
    "INSERT INTO IUVO_PM (`Country`,`ID`,`IssueDate`,`LoanType`,`AmortizationMethod`,`LoanOriginator`,`ScoreClass`,`GuaranteedofPrincipal(%)`,`Currency`,`LoanAmount`,`RemainingPrincipal`,`InterestRate(%)`,`Term`,`PaymentsReceived`,`InstalmentType`,`Status`,`AvailableforInvestment`,`MyInvestment`,`DATE`)\n",
    "SELECT `Country`,`ID`,`IssueDate`,`LoanType`,`AmortizationMethod`,`LoanOriginator`,`ScoreClass`,`GuaranteedofPrincipal(%)`,`Currency`,`LoanAmount`,`RemainingPrincipal`,`InterestRate(%)`,`Term`,`PaymentsReceived`,`InstalmentType`,`Status`,`AvailableforInvestment`,`MyInvestment`,`DATE`\n",
    "FROM PM_tmp;\n",
    "\"\"\"\n",
    "cur.execute(PMInsert)\n",
    "cur.execute(\"DROP TABLE IF EXISTS PM_tmp\")"
   ]
  },
  {
   "cell_type": "markdown",
   "metadata": {},
   "source": [
    "### Secondary Market"
   ]
  },
  {
   "cell_type": "code",
   "execution_count": 159,
   "metadata": {},
   "outputs": [
    {
     "data": {
      "text/plain": [
       "622"
      ]
     },
     "execution_count": 159,
     "metadata": {},
     "output_type": "execute_result"
    }
   ],
   "source": [
    "#Purge the date if it already exists\n",
    "SMPurge = \"DELETE FROM IUVO_SM WHERE DATE=?\"\n",
    "cur.execute(SMPurge,(maxDate,))\n",
    "cur.rowcount"
   ]
  },
  {
   "cell_type": "code",
   "execution_count": 160,
   "metadata": {},
   "outputs": [],
   "source": [
    "#Add the new dataframe, there is some issues with append so make a seperate table\n",
    "iuvoSec.to_sql(\"SM_tmp\",con,if_exists='replace')"
   ]
  },
  {
   "cell_type": "code",
   "execution_count": 161,
   "metadata": {},
   "outputs": [
    {
     "data": {
      "text/plain": [
       "<sqlite3.Cursor at 0x7f849909a500>"
      ]
     },
     "execution_count": 161,
     "metadata": {},
     "output_type": "execute_result"
    }
   ],
   "source": [
    "#Insert data from temporaty table\n",
    "SMInsert = \"\"\"\n",
    "INSERT INTO IUVO_SM (`Country`,`ID`,`IssueDate`,`LoanType`,`AmortizationMethod`,`LoanOriginator`,`ScoreClass`,`GuaranteedofPrincipal(%)`,`InterestRate(%)`,`Term`,`PaymentsReceived`,`InstalmentType`,`Status`,`XIRR(%)`,`Currency`,`AvailableforInvestment`,`Discount/Premium(%)`,`Price`,`MyInvestment`,`Date`)\n",
    "SELECT `Country`,`ID`,`IssueDate`,`LoanType`,`AmortizationMethod`,`LoanOriginator`,`ScoreClass`,`GuaranteedofPrincipal(%)`,`InterestRate(%)`,`Term`,`PaymentsReceived`,`InstalmentType`,`Status`,'',`Currency`,`AvailableforInvestment`,`Discount/Premium(%)`,`Price`,`MyInvestment`, `DATE`\n",
    "FROM SM_tmp;\n",
    "\"\"\"\n",
    "cur.execute(SMInsert)\n",
    "cur.execute(\"DROP TABLE IF EXISTS SM_tmp\")"
   ]
  },
  {
   "cell_type": "markdown",
   "metadata": {},
   "source": [
    "### Cross-checks"
   ]
  },
  {
   "cell_type": "code",
   "execution_count": 162,
   "metadata": {},
   "outputs": [],
   "source": [
    "con.commit()"
   ]
  },
  {
   "cell_type": "code",
   "execution_count": 163,
   "metadata": {},
   "outputs": [
    {
     "name": "stdout",
     "output_type": "stream",
     "text": [
      "[('2018-01-01', 18254, 622), ('2017-12-01', 22589, 621), ('2017-11-05', 15885, 693)]\n"
     ]
    }
   ],
   "source": [
    "#Check what is currently there\n",
    "iuvoState = \"\"\"\n",
    "SELECT a.DATE, a.PM, b.SM\n",
    "    FROM \n",
    "        (SELECT DATE, count(*) as PM FROM IUVO_PM GROUP BY DATE) a\n",
    "    LEFT JOIN \n",
    "        (SELECT DATE, count(*) as SM FROM IUVO_SM GROUP BY DATE) b ON a.DATE = b.DATE\n",
    "ORDER by 1 desc;\n",
    "\"\"\"\n",
    "cur.execute(iuvoState)\n",
    "res = cur.fetchall()\n",
    "print(res)"
   ]
  },
  {
   "cell_type": "code",
   "execution_count": 164,
   "metadata": {
    "scrolled": true
   },
   "outputs": [
    {
     "data": {
      "image/png": "[encoded data removed]",
      "text/plain": [
       "<matplotlib.figure.Figure at 0x7f847d579630>"
      ]
     },
     "metadata": {},
     "output_type": "display_data"
    }
   ],
   "source": [
    "labels, PM, SM = zip(*res)\n",
    "plt.bar(labels,PM,width=0.8,align=\"center\",alpha = 0.5)\n",
    "plt.bar(labels,SM,width=0.8,align=\"center\",alpha = 0.5, bottom=PM)\n",
    "\n",
    "plt.show()"
   ]
  },
  {
   "cell_type": "code",
   "execution_count": 165,
   "metadata": {},
   "outputs": [],
   "source": [
    "con.close()"
   ]
  }
 ],
 "metadata": {
  "kernelspec": {
   "display_name": "Python 3",
   "language": "python",
   "name": "python3"
  },
  "language_info": {
   "codemirror_mode": {
    "name": "ipython",
    "version": 3
   },
   "file_extension": ".py",
   "mimetype": "text/x-python",
   "name": "python",
   "nbconvert_exporter": "python",
   "pygments_lexer": "ipython3",
   "version": "3.6.3"
  }
 },
 "nbformat": 4,
 "nbformat_minor": 2
}
