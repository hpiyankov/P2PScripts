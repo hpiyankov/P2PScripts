{
 "cells": [
  {
   "cell_type": "markdown",
   "metadata": {
    "collapsed": true
   },
   "source": [
    "# Overview\n",
    "<p>Periodic loading of Peer to Peer financing data to an SQLite database. Operating for:\n",
    "<br>--Mintos\n",
    "<br>--IUVO\n",
    "</p>"
   ]
  },
  {
   "cell_type": "code",
   "execution_count": 41,
   "metadata": {},
   "outputs": [],
   "source": [
    "import pandas as pd\n",
    "import matplotlib.pyplot as plt\n",
    "import sqlite3 as sql\n",
    "import zipfile\n",
    "import os"
   ]
  },
  {
   "cell_type": "code",
   "execution_count": 15,
   "metadata": {},
   "outputs": [
    {
     "name": "stdout",
     "output_type": "stream",
     "text": [
      "/home/hpiyankov/Documents/P2P/2018-01-01\n",
      "2018-01-01\n"
     ]
    }
   ],
   "source": [
    "#Path to local Excel files containing the downloaded data from the P2P sites\n",
    "path = \"/home/hpiyankov/Documents/P2P\"\n",
    "\n",
    "#Get the diretory with the latest downloads, we will use it also as date for the SQLite\n",
    "dirList = [x[0] for x in os.walk(path)]\n",
    "lastDir = max(dirList)\n",
    "maxDate = lastDir[-10:]\n",
    "\n",
    "print(lastDir)\n",
    "print(maxDate)"
   ]
  },
  {
   "cell_type": "markdown",
   "metadata": {},
   "source": [
    "# Mintos"
   ]
  },
  {
   "cell_type": "markdown",
   "metadata": {},
   "source": [
    "## Loading data to dataframes"
   ]
  },
  {
   "cell_type": "code",
   "execution_count": 20,
   "metadata": {},
   "outputs": [
    {
     "name": "stdout",
     "output_type": "stream",
     "text": [
      "1-500000_loan_book.xlsx\n",
      "500001-1000000_loan_book.xlsx\n",
      "1000001-1500000_loan_book.xlsx\n",
      "1500001-2000000_loan_book.xlsx\n",
      "2000001-2500000_loan_book.xlsx\n"
     ]
    }
   ],
   "source": [
    "myZip = zipfile.ZipFile(lastDir+\"/loan_book.zip\",\"r\")\n",
    "contents = myZip.namelist()\n",
    "print(*contents,sep=\"\\n\")"
   ]
  },
  {
   "cell_type": "code",
   "execution_count": 34,
   "metadata": {},
   "outputs": [
    {
     "data": {
      "text/plain": [
       "(2039464, 17)"
      ]
     },
     "execution_count": 34,
     "metadata": {},
     "output_type": "execute_result"
    }
   ],
   "source": [
    "mintosDF = pd.DataFrame()\n",
    "\n",
    "for m in contents:\n",
    "    mintosDF = mintosDF.append(pd.read_excel(myZip.open(m,\"r\")))\n",
    "\n",
    "mintosDF.shape"
   ]
  },
  {
   "cell_type": "code",
   "execution_count": 37,
   "metadata": {},
   "outputs": [],
   "source": [
    "#Let's make sure all is as expected\n",
    "assert mintosDF.shape[0] > 100000\n",
    "assert mintosDF.shape[1] == 17"
   ]
  },
  {
   "cell_type": "code",
   "execution_count": 38,
   "metadata": {
    "scrolled": true
   },
   "outputs": [
    {
     "data": {
      "text/html": [
       "<div>\n",
       "<style>\n",
       "    .dataframe thead tr:only-child th {\n",
       "        text-align: right;\n",
       "    }\n",
       "\n",
       "    .dataframe thead th {\n",
       "        text-align: left;\n",
       "    }\n",
       "\n",
       "    .dataframe tbody tr th {\n",
       "        vertical-align: top;\n",
       "    }\n",
       "</style>\n",
       "<table border=\"1\" class=\"dataframe\">\n",
       "  <thead>\n",
       "    <tr style=\"text-align: right;\">\n",
       "      <th></th>\n",
       "      <th>Id</th>\n",
       "      <th>IssueDate</th>\n",
       "      <th>ListingDate</th>\n",
       "      <th>Country</th>\n",
       "      <th>LoanOriginator</th>\n",
       "      <th>LoanType</th>\n",
       "      <th>LoanRatePercent</th>\n",
       "      <th>Term</th>\n",
       "      <th>Collateral</th>\n",
       "      <th>InitialLTV</th>\n",
       "      <th>LTV</th>\n",
       "      <th>LoanStatus</th>\n",
       "      <th>Buybackreason</th>\n",
       "      <th>InitialLoanAmount</th>\n",
       "      <th>RemainingLoanAmount</th>\n",
       "      <th>Currency</th>\n",
       "      <th>Buyback</th>\n",
       "      <th>DATE</th>\n",
       "    </tr>\n",
       "  </thead>\n",
       "  <tbody>\n",
       "    <tr>\n",
       "      <th>0</th>\n",
       "      <td>2014-1012</td>\n",
       "      <td>2014-10-17 00:00:00</td>\n",
       "      <td>2014-10-17 00:00:00</td>\n",
       "      <td>Latvia</td>\n",
       "      <td>Hipocredit</td>\n",
       "      <td>Mortgage Loan</td>\n",
       "      <td>14.2</td>\n",
       "      <td>60</td>\n",
       "      <td>Yes</td>\n",
       "      <td>13</td>\n",
       "      <td>6</td>\n",
       "      <td>Current</td>\n",
       "      <td>-</td>\n",
       "      <td>5000.0</td>\n",
       "      <td>2253.21</td>\n",
       "      <td>EUR</td>\n",
       "      <td>No</td>\n",
       "      <td>2018-01-01</td>\n",
       "    </tr>\n",
       "    <tr>\n",
       "      <th>1</th>\n",
       "      <td>17938-02</td>\n",
       "      <td>2016-02-02 00:00:00</td>\n",
       "      <td>2016-02-04 18:39:18</td>\n",
       "      <td>Latvia</td>\n",
       "      <td>Hipocredit</td>\n",
       "      <td>Mortgage Loan</td>\n",
       "      <td>15.4</td>\n",
       "      <td>60</td>\n",
       "      <td>Yes</td>\n",
       "      <td>45</td>\n",
       "      <td>41</td>\n",
       "      <td>Current</td>\n",
       "      <td>-</td>\n",
       "      <td>40525.0</td>\n",
       "      <td>36473.42</td>\n",
       "      <td>EUR</td>\n",
       "      <td>No</td>\n",
       "      <td>2018-01-01</td>\n",
       "    </tr>\n",
       "    <tr>\n",
       "      <th>2</th>\n",
       "      <td>2014-1003</td>\n",
       "      <td>2014-10-17 00:00:00</td>\n",
       "      <td>2014-10-17 00:00:00</td>\n",
       "      <td>Latvia</td>\n",
       "      <td>Hipocredit</td>\n",
       "      <td>Mortgage Loan</td>\n",
       "      <td>12.5</td>\n",
       "      <td>120</td>\n",
       "      <td>Yes</td>\n",
       "      <td>45</td>\n",
       "      <td>36</td>\n",
       "      <td>Late 1-15</td>\n",
       "      <td>-</td>\n",
       "      <td>30000.0</td>\n",
       "      <td>24354.30</td>\n",
       "      <td>EUR</td>\n",
       "      <td>No</td>\n",
       "      <td>2018-01-01</td>\n",
       "    </tr>\n",
       "    <tr>\n",
       "      <th>3</th>\n",
       "      <td>2014-10019</td>\n",
       "      <td>2014-10-10 00:00:00</td>\n",
       "      <td>2014-10-10 00:00:00</td>\n",
       "      <td>Latvia</td>\n",
       "      <td>Hipocredit</td>\n",
       "      <td>Mortgage Loan</td>\n",
       "      <td>13.6</td>\n",
       "      <td>120</td>\n",
       "      <td>Yes</td>\n",
       "      <td>60</td>\n",
       "      <td>49</td>\n",
       "      <td>Late 1-15</td>\n",
       "      <td>-</td>\n",
       "      <td>18000.0</td>\n",
       "      <td>14592.10</td>\n",
       "      <td>EUR</td>\n",
       "      <td>No</td>\n",
       "      <td>2018-01-01</td>\n",
       "    </tr>\n",
       "    <tr>\n",
       "      <th>4</th>\n",
       "      <td>2014-1002</td>\n",
       "      <td>2014-10-10 00:00:00</td>\n",
       "      <td>2014-10-10 00:00:00</td>\n",
       "      <td>Latvia</td>\n",
       "      <td>Hipocredit</td>\n",
       "      <td>Mortgage Loan</td>\n",
       "      <td>13.9</td>\n",
       "      <td>84</td>\n",
       "      <td>Yes</td>\n",
       "      <td>28</td>\n",
       "      <td>0</td>\n",
       "      <td>Finished prematurely</td>\n",
       "      <td>Not Specified</td>\n",
       "      <td>7700.0</td>\n",
       "      <td>0.00</td>\n",
       "      <td>EUR</td>\n",
       "      <td>No</td>\n",
       "      <td>2018-01-01</td>\n",
       "    </tr>\n",
       "  </tbody>\n",
       "</table>\n",
       "</div>"
      ],
      "text/plain": [
       "           Id            IssueDate          ListingDate Country  \\\n",
       "0   2014-1012  2014-10-17 00:00:00  2014-10-17 00:00:00  Latvia   \n",
       "1    17938-02  2016-02-02 00:00:00  2016-02-04 18:39:18  Latvia   \n",
       "2   2014-1003  2014-10-17 00:00:00  2014-10-17 00:00:00  Latvia   \n",
       "3  2014-10019  2014-10-10 00:00:00  2014-10-10 00:00:00  Latvia   \n",
       "4   2014-1002  2014-10-10 00:00:00  2014-10-10 00:00:00  Latvia   \n",
       "\n",
       "  LoanOriginator       LoanType  LoanRatePercent  Term Collateral  InitialLTV  \\\n",
       "0     Hipocredit  Mortgage Loan             14.2    60        Yes          13   \n",
       "1     Hipocredit  Mortgage Loan             15.4    60        Yes          45   \n",
       "2     Hipocredit  Mortgage Loan             12.5   120        Yes          45   \n",
       "3     Hipocredit  Mortgage Loan             13.6   120        Yes          60   \n",
       "4     Hipocredit  Mortgage Loan             13.9    84        Yes          28   \n",
       "\n",
       "   LTV            LoanStatus  Buybackreason  InitialLoanAmount  \\\n",
       "0    6               Current              -             5000.0   \n",
       "1   41               Current              -            40525.0   \n",
       "2   36             Late 1-15              -            30000.0   \n",
       "3   49             Late 1-15              -            18000.0   \n",
       "4    0  Finished prematurely  Not Specified             7700.0   \n",
       "\n",
       "   RemainingLoanAmount Currency Buyback        DATE  \n",
       "0              2253.21      EUR      No  2018-01-01  \n",
       "1             36473.42      EUR      No  2018-01-01  \n",
       "2             24354.30      EUR      No  2018-01-01  \n",
       "3             14592.10      EUR      No  2018-01-01  \n",
       "4                 0.00      EUR      No  2018-01-01  "
      ]
     },
     "execution_count": 38,
     "metadata": {},
     "output_type": "execute_result"
    }
   ],
   "source": [
    "#Drop spaces form column names for easier SQL storage\n",
    "mintosDF.columns = [x.replace(\" \",\"\") for x in mintosDF.columns]\n",
    "mintosDF[\"DATE\"] = maxDate\n",
    "mintosDF.head(5)"
   ]
  },
  {
   "cell_type": "markdown",
   "metadata": {},
   "source": [
    "## Loading dataframe to SQLite DB"
   ]
  },
  {
   "cell_type": "code",
   "execution_count": null,
   "metadata": {},
   "outputs": [],
   "source": [
    "con = sql.connect(path+\"\\Mintos_bup.db\")"
   ]
  },
  {
   "cell_type": "code",
   "execution_count": null,
   "metadata": {},
   "outputs": [],
   "source": []
  }
 ],
 "metadata": {
  "kernelspec": {
   "display_name": "Python 3",
   "language": "python",
   "name": "python3"
  },
  "language_info": {
   "codemirror_mode": {
    "name": "ipython",
    "version": 3
   },
   "file_extension": ".py",
   "mimetype": "text/x-python",
   "name": "python",
   "nbconvert_exporter": "python",
   "pygments_lexer": "ipython3",
   "version": "3.6.3"
  }
 },
 "nbformat": 4,
 "nbformat_minor": 2
}
